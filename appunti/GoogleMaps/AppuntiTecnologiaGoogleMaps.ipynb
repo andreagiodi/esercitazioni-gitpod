{
  "nbformat": 4,
  "nbformat_minor": 0,
  "metadata": {
    "colab": {
      "provenance": []
    },
    "kernelspec": {
      "name": "python3",
      "display_name": "Python 3"
    },
    "language_info": {
      "name": "python"
    }
  },
  "cells": [
    {
      "cell_type": "markdown",
      "source": [],
      "metadata": {
        "id": "yixYY-0XW0T7"
      }
    },
    {
      "cell_type": "code",
      "execution_count": null,
      "metadata": {
        "id": "rWKVjPfFWvXe"
      },
      "outputs": [],
      "source": [
        "file: index.html \n",
        "Aggiungi lo script evidenziato sostituendo la tua api-key\n",
        "\n",
        "<!DOCTYPE html>\n",
        "<html lang=\"en\">\n",
        "  <head>\n",
        "    <meta charset=\"utf-8\" />\n",
        "    <title>Map</title>\n",
        "    <base href=\"/\" />\n",
        "    <meta name=\"viewport\" content=\"width=device-width, initial-scale=1\" />\n",
        "    <link rel=\"icon\" type=\"image/x-icon\" href=\"favicon.ico\" />\n",
        "\n",
        "   <script src=\"https://maps.googleapis.com/maps/api/js?key=YOUR_API_KEY\"></script>\n",
        " </head>\n",
        "  <body>\n",
        "    <app-root></app-root>\n",
        "  </body>\n",
        "</html>\n",
        "\n"
      ]
    },
    {
      "cell_type": "markdown",
      "source": [],
      "metadata": {
        "id": "phZEXb_bW8Ea"
      }
    },
    {
      "cell_type": "code",
      "source": [
        "file: app.module.ts\n",
        "\n",
        "import { NgModule } from '@angular/core';\n",
        "import { BrowserModule } from '@angular/platform-browser';\n",
        "import { GoogleMapsModule } from '@angular/google-maps' // Importa questo modulo\n",
        "import { AppComponent } from './app.component';\n",
        "\n",
        "@NgModule({\n",
        "  declarations: [\n",
        "    AppComponent\n",
        "  ],\n",
        "  imports: [\n",
        "    BrowserModule,\n",
        "    GoogleMapsModule // Importa questo modulo\n",
        "  ],\n",
        "  providers: [],\n",
        "  bootstrap: [AppComponent]\n",
        "})\n",
        "export class AppModule { }\n",
        "\n",
        "\n",
        "file: app.component.ts\n",
        "\n",
        "import { Component } from '@angular/core';\n",
        "\n",
        "@Component({\n",
        "  selector: 'app-root',\n",
        "  templateUrl: './app.component.html',\n",
        "  styleUrls: ['./app.component.css']\n",
        "})\n",
        "export class AppComponent {\n",
        "  title = 'server mappe';\n",
        "  //Aggiungiamo latitudine e longitudine di un luogo\n",
        "  center : any;\n",
        "  position : any;\n",
        "  label :string;\n",
        "  constructor()\n",
        "  {\n",
        "    this.center={lat: 45.506738, lng: 9.190766};\n",
        "    this.position = this.center;\n",
        "    this.label = \"ciao\";\n",
        "  }\n",
        "\n",
        "}\n",
        "\n",
        "\n",
        "file:app.component.html\n",
        "\n",
        "{{title}}\n",
        "<!--Centriamo la mappa alle nostre coordinate-->\n",
        "<google-map [center]=\"center\">  \n",
        "  <!--Mettiamo un marker alle nostre coordinate-->\n",
        "  <map-marker [position]=\"position\" [label]=\"label\" [title]=\"title\">\n",
        "  </map-marker>\n",
        "</google-map>\n",
        "\n"
      ],
      "metadata": {
        "id": "BRy-vniFW8SC"
      },
      "execution_count": null,
      "outputs": []
    },
    {
      "cell_type": "markdown",
      "source": [
        "Display Objects"
      ],
      "metadata": {
        "id": "ZLG9cMmFXEJq"
      }
    },
    {
      "cell_type": "code",
      "source": [
        "modifica come segue il file app.component.html\n",
        "\n",
        "{{title}}\n",
        "<!--Centriamo la mappa alle nostre coordinate-->\n",
        "<google-map [center]=\"center\">  \n",
        "  <!--Mettiamo un marker alle nostre coordinate-->\n",
        "  <map-marker [position]=\"position\" [label]=\"label\" [title]=\"title\">\n",
        "  </map-marker>\n",
        "\n",
        "  <map-circle [center]=\"position\"\n",
        "              [radius]=\"50\"\n",
        "              [options] = 'circleOptions'>\n",
        "  </map-circle>\n",
        "</google-map>\n",
        "\n",
        "Aggiungi la proprietà circleOptions al file app.component.ts\n",
        "\n",
        "this.circleOptions = {fillColor : 'red'}\n",
        "\n"
      ],
      "metadata": {
        "id": "C1kDrwzSXBVS"
      },
      "execution_count": null,
      "outputs": []
    },
    {
      "cell_type": "markdown",
      "source": [],
      "metadata": {
        "id": "oaP_K5ooXNMr"
      }
    },
    {
      "cell_type": "code",
      "source": [
        "nel file app.component.ts aggiungi una proprietà \n",
        "markerOptions: google.maps.MarkerOptions;\n",
        "\n",
        "e nel costruttore inizializzala come segue:\n",
        " let iconData : google.maps.Icon = {\n",
        "      url:'./assets/img/cat_acrobat.ico',\n",
        "      scaledSize : new google.maps.Size(60,60)\n",
        " }\n",
        "  \n",
        "this.markerOptions = {icon:iconData}\n",
        "\n",
        "nel file app.component.html\n",
        "Modifica i parametri passati al componente Marker come segue\n",
        " <map-marker [position]=\"position\" \n",
        "              [label]=\"label\" \n",
        "              [title]=\"title\"\n",
        "              [options] = \"markerOptions\">\n",
        " </map-marker>\n",
        "\n"
      ],
      "metadata": {
        "id": "lYMIjUndXJD6"
      },
      "execution_count": null,
      "outputs": []
    },
    {
      "cell_type": "markdown",
      "source": [],
      "metadata": {
        "id": "LuIcR_5bXO7S"
      }
    },
    {
      "cell_type": "code",
      "source": [
        "aggiungi al file app.component.ts una proprietà\n",
        "vertices: google.maps.LatLngLiteral[];\n",
        "\n",
        "\n",
        "nel costruttore assegna i seguenti valori\n",
        " this.vertices = [\n",
        "      {  lat: this.center.lat + 0.001, lng: this.center.lng - 0.002 },\n",
        "      {  lat: this.center.lat, lng: this.center.lng },\n",
        "      {  lat: this.center.lat - 0.001, lng: this.center.lng - 0.002}\n",
        " ];\n",
        "\n",
        "\n",
        "aggiungi al file app.component.html (sempre dentro al tag google-map)\n",
        "<map-polygon [paths]=\"vertices\">\n",
        "</map-polygon>\n",
        "\n"
      ],
      "metadata": {
        "id": "5X2rhJRwXPOC"
      },
      "execution_count": null,
      "outputs": []
    },
    {
      "cell_type": "markdown",
      "source": [
        "GeoJson"
      ],
      "metadata": {
        "id": "9ObCAeNoXTji"
      }
    },
    {
      "cell_type": "code",
      "source": [
        "Per gestire i GeoJson in angular dovremo creare un modello che segue la struttura del formato geojson.\n",
        "\n",
        "export class Geometry {\n",
        "    type: string;\n",
        "    coordinates: any; \n",
        "    //non sappiamo se coordinates sarà un number[] (Point), number[][] (LineString) o    \n",
        "    //number [][][] (Polygon) allora usiamo il tipo any: indefinito\n",
        "}\n",
        "export class GeoJson {\n",
        "        public type: string;\n",
        "        public geometry: Geometry;\n",
        "        public properties?: any //le proprietà possono variare per ora le lasciamo di tipo \n",
        "                                //any\n",
        "}\n",
        "\n"
      ],
      "metadata": {
        "id": "rNpKcUnDXUAi"
      },
      "execution_count": null,
      "outputs": []
    },
    {
      "cell_type": "markdown",
      "source": [],
      "metadata": {
        "id": "wvKSREgUXY_q"
      }
    },
    {
      "cell_type": "code",
      "source": [
        "Quello che ci interessa davvero è visualizzare molte zone catastali quindi un vettore di oggetti GeoJson.\n",
        "export class GeoFeatureCollection\n",
        "{\n",
        "    public type: string;  //Nel nostro caso il tipo sarà FeatureCollection\n",
        "    public features : GeoJson[];\n",
        "}\n",
        "\n"
      ],
      "metadata": {
        "id": "a8lD1lTOXZQq"
      },
      "execution_count": null,
      "outputs": []
    },
    {
      "cell_type": "markdown",
      "source": [],
      "metadata": {
        "id": "UCZOVixGXbU6"
      }
    },
    {
      "cell_type": "code",
      "source": [
        "modifica il file app.component.ts come segue\n",
        "\n",
        "import { AfterViewInit } from '@angular/core';\n",
        "import { Component, ViewChild } from '@angular/core';\n",
        "import { GoogleMap } from '@angular/google-maps'\n",
        "import { GEOJSON, GeoFeatureCollection } from './models/geojson.model';\n",
        "\n",
        "@Component({\n",
        "  selector: 'app-root',\n",
        "  templateUrl: './app.component.html',\n",
        "  styleUrls: ['./app.component.css']\n",
        "})\n",
        "export class AppComponent implements AfterViewInit {\n",
        "  title = 'server mappe';\n",
        "  //Aggiungiamo latitudine e longitudine di un luogo\n",
        "  center: google.maps.LatLngLiteral = { lat: 45.506738, lng: 9.190766 };\n",
        "  geoJsonObject : GeoFeatureCollection;\n",
        "  fillColor: string = \"#FF0000\";  //Colore delle zone catastali\n",
        " \n",
        "  markerList : google.maps.MarkerOptions[];\n",
        "  zoom = 8;\n",
        "\n",
        "  constructor() {\n",
        "\n",
        "    //Questi dati dovremmo scaricarli dal server, per ora li abbiamo copiati nel file     gojson.model.ts\n",
        "    this.geoJsonObject = GEOJSON;  \n",
        "    console.log(this.geoJsonObject); //stampo l'oggetto geoJsonObject sulla console\n",
        "  }\n",
        "}\n",
        "\n"
      ],
      "metadata": {
        "id": "P6X3FFVRXboC"
      },
      "execution_count": null,
      "outputs": []
    },
    {
      "cell_type": "markdown",
      "source": [],
      "metadata": {
        "id": "wsqQRGoVXeCb"
      }
    },
    {
      "cell_type": "code",
      "source": [
        "modifica il file app.component.html\n",
        "\n",
        "<h1>Angular Google Maps Demo</h1>\n",
        "<google-map  #mapRef [center]=\"center\" [zoom]=\"zoom\" [width]=\"1000\">  \n",
        "</google-map>\n",
        "\n",
        "\n",
        "Modifica il file app.component.ts aggiungendo il seguente codice\n",
        " @ViewChild('mapRef') mapRef: GoogleMap;\n",
        "  ngAfterViewInit() {\n",
        "    this.mapRef.data.addGeoJson(this.geoJsonObject);\n",
        "  }\n",
        "\n"
      ],
      "metadata": {
        "id": "DgQcoyoqXeRD"
      },
      "execution_count": null,
      "outputs": []
    },
    {
      "cell_type": "markdown",
      "source": [
        "In pratica la variabile  #mapRef nel file html crea un riferimento al componente GoogleMap.\n",
        "<google-map  #mapRef [center]=\"center\" [zoom]=\"zoom\" [width]=\"1000\">  \n",
        "</google-map>\n",
        "\n",
        "nel file .ts\n",
        "@ViewChild('mapRef') mapRef: GoogleMap;  <- Ottiene l’oggetto GoogleMap\n",
        "  ngAfterViewInit() { <- Quando è stata inizializzata l’interfaccia\n",
        "    this.mapRef.data.addGeoJson(this.geoJsonObject); <- Aggiungo l’oggetto geoJson alla mappa\n",
        "  }\n"
      ],
      "metadata": {
        "id": "LNstb1ycXkei"
      }
    },
    {
      "cell_type": "markdown",
      "source": [],
      "metadata": {
        "id": "N718FtvqXpVy"
      }
    },
    {
      "cell_type": "code",
      "source": [
        "Crea la funzione styleFunc  nel file .ts e aggiungila al metodo this.mapRef.data.setStyle\n",
        "\n",
        " @ViewChild('mapRef') mapRef: GoogleMap;\n",
        "  ngAfterViewInit() {\n",
        "    this.mapRef.data.addGeoJson(this.geoJsonObject);\n",
        "    this.mapRef.data.setStyle(this.styleFunc)\n",
        "  }\n",
        "\n",
        "styleFunc = (feature: any) =>{\n",
        "    console.log(feature)\n",
        "    return ({\n",
        "      clickable: false,\n",
        "      fillColor: this.fillColor,\n",
        "      strokeWeight: 1\n",
        "    });\n",
        "  }\n",
        "\n"
      ],
      "metadata": {
        "id": "bf3oZVZTXksz"
      },
      "execution_count": null,
      "outputs": []
    },
    {
      "cell_type": "markdown",
      "source": [],
      "metadata": {
        "id": "MyDmzeZXXr87"
      }
    },
    {
      "cell_type": "code",
      "source": [
        "Aggiustiamo la funzione come segue\n",
        "styleFunc = (feature:any) =>{\n",
        "    console.log(feature.i.id)\n",
        "    let newColor = \"#FF0000\"; //RED\n",
        "    if(feature.i.id == 0) newColor = \"#00FF00\"; //GREEN\n",
        "    else newColor = \"#0000FF\"; //BLUE\n",
        "    return ({\n",
        "      clickable: false,\n",
        "      fillColor: newColor,\n",
        "      strokeWeight: 1\n",
        "    });\n",
        "  }\n",
        "\n"
      ],
      "metadata": {
        "id": "Q-h-U5F1XsZq"
      },
      "execution_count": null,
      "outputs": []
    },
    {
      "cell_type": "markdown",
      "source": [
        "Visualizzare Marker"
      ],
      "metadata": {
        "id": "3kj4YqmOXuxS"
      }
    },
    {
      "cell_type": "code",
      "source": [
        "aggiungi al file app.component.ts il seguente codice che riempie il vettore markerList con 2 marker\n",
        "markerGenerator()\n",
        "  {\n",
        "    this.markerList =[\n",
        "      {\n",
        "        position : {\n",
        "          lng : this.geoJsonObject.features[0].geometry.coordinates[0][0][0],\n",
        "          lat : this.geoJsonObject.features[0].geometry.coordinates[0][0][1]\n",
        "        },\n",
        "        label: String(this.geoJsonObject.features[0].properties.id),\n",
        "      },\n",
        "      {\n",
        "        position : {\n",
        "          lng : this.geoJsonObject.features[1].geometry.coordinates[0][0][0],\n",
        "          lat : this.geoJsonObject.features[1].geometry.coordinates[0][0][1]\n",
        "        },\n",
        "        label: String(this.geoJsonObject.features[1].properties.id),\n",
        "      },\n",
        "    ]\n",
        "\n",
        "  }\n",
        "\n",
        "\n",
        "e al file html\n",
        "\n",
        "<map-marker *ngFor=\"let markerOption of markerList\" [options] = \"markerOption\">\n",
        "</map-marker>\n",
        "\n"
      ],
      "metadata": {
        "id": "z9EG9VrVXvHy"
      },
      "execution_count": null,
      "outputs": []
    },
    {
      "cell_type": "markdown",
      "source": [],
      "metadata": {
        "id": "hltXgD92X0Pq"
      }
    },
    {
      "cell_type": "code",
      "source": [],
      "metadata": {
        "id": "n_4MbzfOX0f6"
      },
      "execution_count": null,
      "outputs": []
    }
  ]
}