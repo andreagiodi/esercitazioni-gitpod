{
  "nbformat": 4,
  "nbformat_minor": 0,
  "metadata": {
    "colab": {
      "provenance": []
    },
    "kernelspec": {
      "name": "python3",
      "display_name": "Python 3"
    },
    "language_info": {
      "name": "python"
    }
  },
  "cells": [
    {
      "cell_type": "markdown",
      "source": [
        "Codificare una HTTP API con Python\n"
      ],
      "metadata": {
        "id": "FHDPz7vKU4AD"
      }
    },
    {
      "cell_type": "code",
      "execution_count": null,
      "metadata": {
        "id": "GBzP6pnJUz1D"
      },
      "outputs": [],
      "source": [
        "#main.py\n",
        "# Import the Flask module that has been installed.\n",
        "from flask import Flask\n",
        "from flask import send_file\n",
        "\n",
        "# Creating a new \"app\" by using the Flask constructor. Passes __name__ as a parameter.\n",
        "app = Flask(__name__)\n",
        "\n",
        "# Annotation that allows the function to be hit at the specific URL.\n",
        "@app.route(\"/\")\n",
        "# Generic Python functino that returns \"Hello world!\"\n",
        "def index():\n",
        "    return \"Hello world!\"\n",
        "\n",
        "# Checks to see if the name of the package is the run as the main package.\n",
        "if __name__ == \"__main__\":\n",
        "    # Runs the Flask application only if the main.py file is being run.\n",
        "    app.run()"
      ]
    },
    {
      "cell_type": "markdown",
      "source": [
        "books.json"
      ],
      "metadata": {
        "id": "SLm5FwotU8si"
      }
    },
    {
      "cell_type": "code",
      "source": [
        "{\n",
        "  \"books\": [\n",
        "    {\n",
        "      \"id\": 1,\n",
        "      \"title\": \"Harry Potter and the Goblet of Fire\",\n",
        "      \"author\": \"J.K. Rowling\",\n",
        "      \"isbn\": \"1512379298\"\n",
        "    },\n",
        "    {\n",
        "      \"id\": 2,\n",
        "      \"title\": \"Lord of the Flies\",\n",
        "      \"author\": \"William Golding\",\n",
        "      \"isbn\": \"0399501487\"\n",
        "    }\n",
        "  ]\n",
        "}"
      ],
      "metadata": {
        "id": "7kO1j0OQU-Sk"
      },
      "execution_count": null,
      "outputs": []
    },
    {
      "cell_type": "markdown",
      "source": [
        "route /books"
      ],
      "metadata": {
        "id": "_bvIsDRkU_0y"
      }
    },
    {
      "cell_type": "code",
      "source": [
        "# Annotation that allows the function to be hit at the specific URL (/books).\n",
        "@app.route(\"/books\")\n",
        "# Generic Python functino that returns books.json\n",
        "def books():\n",
        "    return send_file('books.json')"
      ],
      "metadata": {
        "id": "wluKGn6YVBxT"
      },
      "execution_count": null,
      "outputs": []
    },
    {
      "cell_type": "markdown",
      "source": [
        "Dependencies per estrarre dati da MongoDB\n"
      ],
      "metadata": {
        "id": "D6e6bJDTVDzT"
      }
    },
    {
      "cell_type": "code",
      "source": [
        "pip install Flask-PyMongo\n",
        "pip install Flask\n",
        "pip install dnspython # per risolvere l'indirizzo del db\n",
        "npm install -g --force nodemon\n",
        "pip install flask-cors"
      ],
      "metadata": {
        "id": "ufUeG0c4VRGq"
      },
      "execution_count": null,
      "outputs": []
    },
    {
      "cell_type": "markdown",
      "source": [
        "Codice"
      ],
      "metadata": {
        "id": "fgLORUHcVR_q"
      }
    },
    {
      "cell_type": "code",
      "source": [
        "# main.py\n",
        "\n",
        "from flask import Flask\n",
        "from flask import jsonify\n",
        "from flask import request\n",
        "from flask_pymongo import PyMongo\n",
        "from flask_cors import CORS\n",
        "\n",
        "app = Flask(__name__)\n",
        "\n",
        "# Stringa di connessione al DB\n",
        "app.config[\"MONGO_URI\"] = \"**TUO_URL_DI_CONNESSIONE**\" #Importante qui va specificato il nome del DB\n",
        "\n",
        "mongo = PyMongo(app)\n",
        "# Per rispondere alle chiamate cross origin\n",
        "CORS(app)\n",
        "\n",
        "# Annotation that allows the function to be hit at the specific URL.\n",
        "@app.route(\"/\")\n",
        "# Generic Python functino that returns \"Hello world!\"\n",
        "def index():\n",
        "    return \"Hello world!\"\n",
        "\n",
        "# Questa route effettua una find() su tutto il DB (si limita ai primi 100 risultati)\n",
        "@app.route('/addresses', methods=['GET'])\n",
        "def get_all_addresses():\n",
        "    mil4326WKT = mongo.db.MilWKT4326\n",
        "    output = []\n",
        "    for s in mil4326WKT.find().limit(100):\n",
        "        output.append(s['INDIRIZZO'])\n",
        "    return jsonify({'result': output})\n",
        "\n",
        "# Checks to see if the name of the package is the run as the main package.\n",
        "if __name__ == \"__main__\":\n",
        "    # Runs the Flask application only if the main.py file is being run.\n",
        "    app.run()\n"
      ],
      "metadata": {
        "id": "0OhtQRw5VUga"
      },
      "execution_count": null,
      "outputs": []
    },
    {
      "cell_type": "markdown",
      "source": [
        "Visualizzare tutti i vettori"
      ],
      "metadata": {
        "id": "4_Gvi7IIVVQi"
      }
    },
    {
      "cell_type": "code",
      "source": [
        "@app.route('/ci_vettore', methods=['GET'])\n",
        "def get_vettore():\n",
        "    mil4326WKT = mongo.db.MilWKT4326\n",
        "    output = []\n",
        "    for s in mil4326WKT.find().limit(100):\n",
        "        output.append(s['CI_VETTORE'])\n",
        "    return jsonify({'result': output})"
      ],
      "metadata": {
        "id": "uH55YihCVbVL"
      },
      "execution_count": null,
      "outputs": []
    },
    {
      "cell_type": "markdown",
      "source": [
        "Visualizzare in base ad un parametro"
      ],
      "metadata": {
        "id": "4bpkZGO3VeK8"
      }
    },
    {
      "cell_type": "code",
      "source": [
        "@app.route('/ci_vettore/<foglio>', methods=['GET'])\n",
        "def get_vettore(foglio):\n",
        "    mil4326WKT = mongo.db.MilWKT4326\n",
        "    output = []\n",
        "    query = {\n",
        "        \"FOGLIO\" : foglio\n",
        "    }\n",
        "    for s in mil4326WKT.find(query).limit(100):\n",
        "        output.append(s['CI_VETTORE'])\n",
        "    return jsonify({'result': output})"
      ],
      "metadata": {
        "id": "4Bf058f3Vk-K"
      },
      "execution_count": null,
      "outputs": []
    },
    {
      "cell_type": "markdown",
      "source": [
        "recuperare tutti i dati risultati dalla query e formattarli in JSON"
      ],
      "metadata": {
        "id": "3yctZjiBVmya"
      }
    },
    {
      "cell_type": "code",
      "source": [
        "@app.route('/ci_vettore/<foglio>', methods=['GET'])\n",
        "def get_vettore(foglio):\n",
        "    mil4326WKT = mongo.db.MilWKT4326\n",
        "    output = []\n",
        "    query = {\n",
        "        \"FOGLIO\" : foglio\n",
        "    }\n",
        "    for s in mil4326WKT.find(query):\n",
        "        output.append({\n",
        "            \"INDIRIZZO\":s['INDIRIZZO'],\n",
        "            \"WGS84_X\":s[\"WGS84_X\"],\n",
        "            \"WGS84_Y\":s[\"WGS84_Y\"],\n",
        "            \"CLASSE_ENE\":s[\"CLASSE_ENE\"],\n",
        "            \"EP_H_ND\":s[\"EP_H_ND\"],\n",
        "            \"FOGLIO\":s[\"FOGLIO\"],\n",
        "            \"CI_VETTORE\":s['CI_VETTORE']\n",
        "        }\n",
        "        )\n",
        "    return jsonify(output) #Nota che abbiamo eliminato la chiave result perchè i dati sono già formattati"
      ],
      "metadata": {
        "id": "29mFvpcQVvcL"
      },
      "execution_count": null,
      "outputs": []
    },
    {
      "cell_type": "markdown",
      "source": [
        "Aggregazioni"
      ],
      "metadata": {
        "id": "lbt8ZBzeVw2q"
      }
    },
    {
      "cell_type": "code",
      "source": [
        "@app.route('/geogeom', methods=['GET'])\n",
        "def get_all_stars():\n",
        "    mil4326WKT = mongo.db.MilWKT4326\n",
        "    output = []\n",
        "\n",
        "    group = {\n",
        "        '$group': {\n",
        "            '_id': {\n",
        "                'SEZ': '$SEZ',\n",
        "                'WKT': '$WKT'\n",
        "            },\n",
        "            'AVG': {\n",
        "                '$avg': '$EP_H_ND'\n",
        "            },\n",
        "            'SUM': {\n",
        "                '$sum': '$EP_H_ND'\n",
        "            }\n",
        "        }\n",
        "    }\n",
        "\n",
        "    for s in mil4326WKT.aggregate([group]):\n",
        "        output.append({'somma': s['SUM'], 'media': s['AVG'],\n",
        "                      'WKT': s['_id']['WKT'], 'SEZ': s['_id']['SEZ']})\n",
        "    return jsonify({'result': output})"
      ],
      "metadata": {
        "id": "iKg30xq-V1Zi"
      },
      "execution_count": null,
      "outputs": []
    },
    {
      "cell_type": "markdown",
      "source": [
        "Trasformare i dati in GeoJson\n"
      ],
      "metadata": {
        "id": "BWUcOuGzV5_C"
      }
    },
    {
      "cell_type": "code",
      "source": [
        "import geojson\n",
        "import shapely.wkt"
      ],
      "metadata": {
        "id": "fPrgPPLPV5qq"
      },
      "execution_count": null,
      "outputs": []
    },
    {
      "cell_type": "code",
      "source": [
        "@app.route('/geogeom', methods=['GET'])\n",
        "def get_all_stars():\n",
        "    mil4326WKT = mongo.db.MilWKT4326\n",
        "    output = []\n",
        "\n",
        "    match = {\n",
        "        '$match': {\n",
        "            'EP_H_ND': {'$gt': 0}\n",
        "        }\n",
        "    }\n",
        "    group = {\n",
        "        '$group': {\n",
        "            '_id': {\n",
        "                'SEZ': '$SEZ',\n",
        "                'WKT': '$WKT'\n",
        "            },\n",
        "            'AVG': {\n",
        "                '$avg': '$EP_H_ND'\n",
        "            },\n",
        "            'SUM': {\n",
        "                '$sum': '$EP_H_ND'\n",
        "            }\n",
        "        }\n",
        "    }\n",
        "    limit = {\n",
        "        '$limit' : 10\n",
        "    }\n",
        "    \n",
        "    for s in mil4326WKT.aggregate([match, group, limit]):\n",
        "        g1= shapely.wkt.loads(s['_id']['WKT'])\n",
        "        g2 = geojson.Feature(geometry=g1, \n",
        "        properties={'id':s['_id']['SEZ'], 'media':s['AVG'], 'somma':s['SUM'], 'sezione':s['_id']['SEZ']}) \n",
        "        output.append(g2)                 \n",
        "    return jsonify({'result': output})"
      ],
      "metadata": {
        "id": "dxa9xD_jV96M"
      },
      "execution_count": null,
      "outputs": []
    },
    {
      "cell_type": "markdown",
      "source": [
        "Mettendo assieme le due query, possiamo completare il codice come segue"
      ],
      "metadata": {
        "id": "d0fCMt6gWRIa"
      }
    },
    {
      "cell_type": "code",
      "source": [
        "\n",
        "# Estrae consumo energetico medio e totale raggruppato per sezione catastale (e Poligono WKT)\n",
        "@app.route('/geogeom/<float:lng>/<float:lat>/<float:r>', methods=['GET'])\n",
        "def get_avg(lng, lat, r):\n",
        "    print(type(lng))\n",
        "    mil4326WKT = mongo.db.MilWKT4326\n",
        "    output = []\n",
        "\n",
        "    match = {\n",
        "        '$match': {\n",
        "            '$and':\n",
        "            [\n",
        "                {'EP_H_ND': {'$gt': 0}},\n",
        "                {'WGS84_X': {'$gt': lng - r}},\n",
        "                {'WGS84_X': {'$lt': lng + r}},\n",
        "                {'WGS84_Y': {'$gt': lat - r}},\n",
        "                {'WGS84_Y': {'$lt': lat + r}}\n",
        "            ]\n",
        "        }\n",
        "    }\n",
        "    group = {\n",
        "        '$group': {\n",
        "            '_id': {\n",
        "                'SEZ': '$SEZ',\n",
        "                'WKT': '$WKT'\n",
        "            },\n",
        "            'AVG': {\n",
        "                '$avg': '$EP_H_ND'\n",
        "            },\n",
        "            'SUM': {\n",
        "                '$sum': '$EP_H_ND'\n",
        "            }\n",
        "        }\n",
        "    }\n",
        "    limit = {\n",
        "        '$limit': 10\n",
        "    }\n",
        "\n",
        "    for s in mil4326WKT.aggregate([match, group, limit]):\n",
        "        # Converte da WKT in GeoJson Geometry\n",
        "        g1 = shapely.wkt.loads(s['_id']['WKT'])\n",
        "        g2 = geojson.Feature(geometry=g1,\n",
        "                             properties={'id': s['_id']['SEZ'], 'media': s['AVG'], 'somma': s['SUM'], 'sezione': s['_id']['SEZ']})\n",
        "        output.append(g2)\n",
        "    return jsonify(geojson.FeatureCollection(output))"
      ],
      "metadata": {
        "id": "cC6Q3zosV_My"
      },
      "execution_count": null,
      "outputs": []
    }
  ]
}